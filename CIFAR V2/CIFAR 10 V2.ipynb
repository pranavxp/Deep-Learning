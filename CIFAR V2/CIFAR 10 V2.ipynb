{
 "cells": [
  {
   "cell_type": "code",
   "execution_count": 109,
   "id": "a7fa0fcc",
   "metadata": {},
   "outputs": [],
   "source": [
    "import tensorflow as tf\n",
    "from tensorflow.keras import layers, models, regularizers\n",
    "from tensorflow.keras.datasets import cifar10\n",
    "from tensorflow.keras.utils import to_categorical\n",
    "import numpy as np\n",
    "import time\n",
    "import matplotlib.pyplot as plt\n",
    "from tensorflow.keras.layers import Flatten, Dense, Dropout\n",
    "from tensorflow.keras.models import Sequential\n",
    "from tabulate import tabulate"
   ]
  },
  {
   "cell_type": "code",
   "execution_count": 110,
   "id": "53985a2d",
   "metadata": {},
   "outputs": [],
   "source": [
    "# Load and preprocess CIFAR-10 dataset\n",
    "(x_train, y_train), (x_test, y_test) = cifar10.load_data()\n",
    "x_train, x_test = x_train / 255.0, x_test / 255.0    #Normalization\n",
    "y_train, y_test = to_categorical(y_train), to_categorical(y_test) # one hot encoding"
   ]
  },
  {
   "cell_type": "code",
   "execution_count": 111,
   "id": "7a68611d",
   "metadata": {},
   "outputs": [],
   "source": [
    "result = [['Accuracy'], ['Test Loss'], ['Time Taken']]"
   ]
  },
  {
   "cell_type": "markdown",
   "id": "f8bbc709",
   "metadata": {},
   "source": [
    "## Base Model"
   ]
  },
  {
   "cell_type": "code",
   "execution_count": 112,
   "id": "c7fa9d6a",
   "metadata": {},
   "outputs": [],
   "source": [
    "# Define the neural network architecture\n",
    "model = Sequential([\n",
    "    Flatten(input_shape=(32, 32, 3)),\n",
    "    Dense(256, activation='relu'), # Hidden Layer 1\n",
    "    Dense(128, activation='relu'), # Hidden Layer 2\n",
    "    Dense(64, activation='relu'), # Hidden Layer 3\n",
    "    Dense(10, activation='softmax')\n",
    "    ])"
   ]
  },
  {
   "cell_type": "code",
   "execution_count": 113,
   "id": "ce1b11e7",
   "metadata": {},
   "outputs": [],
   "source": [
    "model.compile(optimizer='adam', loss='categorical_crossentropy', metrics=['accuracy'])"
   ]
  },
  {
   "cell_type": "code",
   "execution_count": 114,
   "id": "7179b584",
   "metadata": {
    "scrolled": true
   },
   "outputs": [
    {
     "name": "stdout",
     "output_type": "stream",
     "text": [
      "Epoch 1/10\n",
      "782/782 [==============================] - 6s 8ms/step - loss: 1.8871 - accuracy: 0.3127 - val_loss: 1.7225 - val_accuracy: 0.3780\n",
      "Epoch 2/10\n",
      "782/782 [==============================] - 6s 8ms/step - loss: 1.7040 - accuracy: 0.3897 - val_loss: 1.6687 - val_accuracy: 0.4009\n",
      "Epoch 3/10\n",
      "782/782 [==============================] - 6s 8ms/step - loss: 1.6042 - accuracy: 0.4285 - val_loss: 1.6067 - val_accuracy: 0.4275\n",
      "Epoch 4/10\n",
      "782/782 [==============================] - 6s 7ms/step - loss: 1.5461 - accuracy: 0.4483 - val_loss: 1.5842 - val_accuracy: 0.4357\n",
      "Epoch 5/10\n",
      "782/782 [==============================] - 6s 8ms/step - loss: 1.5152 - accuracy: 0.4599 - val_loss: 1.5355 - val_accuracy: 0.4507\n",
      "Epoch 6/10\n",
      "782/782 [==============================] - 6s 7ms/step - loss: 1.4749 - accuracy: 0.4736 - val_loss: 1.5565 - val_accuracy: 0.4435\n",
      "Epoch 7/10\n",
      "782/782 [==============================] - 6s 8ms/step - loss: 1.4523 - accuracy: 0.4819 - val_loss: 1.5253 - val_accuracy: 0.4589\n",
      "Epoch 8/10\n",
      "782/782 [==============================] - 6s 8ms/step - loss: 1.4278 - accuracy: 0.4928 - val_loss: 1.4547 - val_accuracy: 0.4840\n",
      "Epoch 9/10\n",
      "782/782 [==============================] - 6s 8ms/step - loss: 1.4042 - accuracy: 0.5008 - val_loss: 1.4796 - val_accuracy: 0.4705\n",
      "Epoch 10/10\n",
      "782/782 [==============================] - 6s 8ms/step - loss: 1.3862 - accuracy: 0.5082 - val_loss: 1.4442 - val_accuracy: 0.4848\n"
     ]
    }
   ],
   "source": [
    "st = time.time()\n",
    "history = model.fit(x_train, y_train, epochs=10, batch_size=64, validation_data=(x_test, y_test))\n",
    "et = time.time()\n",
    "duration = et - st"
   ]
  },
  {
   "cell_type": "code",
   "execution_count": 115,
   "id": "4cec97dc",
   "metadata": {},
   "outputs": [
    {
     "name": "stdout",
     "output_type": "stream",
     "text": [
      "313/313 [==============================] - 0s 2ms/step - loss: 1.4442 - accuracy: 0.4848\n",
      "Duration for Training:  61.555 seconds\n",
      "Accuracy:  48.48 %\n",
      "Loss:  1.4442\n"
     ]
    }
   ],
   "source": [
    "base = model.evaluate(x_test,y_test)\n",
    "acc = base[1]\n",
    "loss = base[0]\n",
    "print(\"Duration for Training: \",round(duration,3),'seconds')\n",
    "print('Accuracy: ',round(acc*100,2),'%')\n",
    "print('Loss: ',round(loss,4))\n",
    "result[0].append(base[1])\n",
    "result[1].append(base[0])\n",
    "result[2].append(duration)"
   ]
  },
  {
   "cell_type": "markdown",
   "id": "7ff0834e",
   "metadata": {},
   "source": [
    "## Xavier Initialization"
   ]
  },
  {
   "cell_type": "code",
   "execution_count": 116,
   "id": "8dc0fa4c",
   "metadata": {},
   "outputs": [],
   "source": [
    "init_x = tf.initializers.GlorotUniform()"
   ]
  },
  {
   "cell_type": "code",
   "execution_count": 117,
   "id": "22033f71",
   "metadata": {},
   "outputs": [
    {
     "name": "stderr",
     "output_type": "stream",
     "text": [
      "C:\\Users\\Student\\AppData\\Roaming\\Python\\Python310\\site-packages\\keras\\src\\initializers\\initializers.py:120: UserWarning: The initializer GlorotUniform is unseeded and being called multiple times, which will return identical values each time (even if the initializer is unseeded). Please update your code to provide a seed to the initializer, or avoid using the same initializer instance more than once.\n",
      "  warnings.warn(\n"
     ]
    }
   ],
   "source": [
    "model_x = Sequential([\n",
    "    Flatten(input_shape=(32, 32, 3)),\n",
    "    Dense(256, kernel_initializer = init_x, activation='relu'), # Hidden Layer 1\n",
    "    Dense(128, kernel_initializer = init_x, activation='relu'), # Hidden Layer 2\n",
    "    Dense(64, kernel_initializer = init_x, activation='relu'), # Hidden Layer 3\n",
    "    Dense(10,  kernel_initializer = init_x, activation='softmax')\n",
    "    ])"
   ]
  },
  {
   "cell_type": "code",
   "execution_count": 118,
   "id": "023ca21a",
   "metadata": {},
   "outputs": [],
   "source": [
    "model_x.compile(optimizer='adam', loss='categorical_crossentropy', metrics=['accuracy'])"
   ]
  },
  {
   "cell_type": "code",
   "execution_count": 119,
   "id": "8fc30b0f",
   "metadata": {},
   "outputs": [
    {
     "name": "stdout",
     "output_type": "stream",
     "text": [
      "Epoch 1/10\n",
      "782/782 [==============================] - 7s 9ms/step - loss: 1.8822 - accuracy: 0.3157 - val_loss: 1.7951 - val_accuracy: 0.3509\n",
      "Epoch 2/10\n",
      "782/782 [==============================] - 6s 7ms/step - loss: 1.7054 - accuracy: 0.3899 - val_loss: 1.7441 - val_accuracy: 0.3850\n",
      "Epoch 3/10\n",
      "782/782 [==============================] - 6s 7ms/step - loss: 1.6150 - accuracy: 0.4229 - val_loss: 1.5531 - val_accuracy: 0.4434\n",
      "Epoch 4/10\n",
      "782/782 [==============================] - 6s 7ms/step - loss: 1.5563 - accuracy: 0.4425 - val_loss: 1.5580 - val_accuracy: 0.4395\n",
      "Epoch 5/10\n",
      "782/782 [==============================] - 6s 8ms/step - loss: 1.5156 - accuracy: 0.4584 - val_loss: 1.5069 - val_accuracy: 0.4619\n",
      "Epoch 6/10\n",
      "782/782 [==============================] - 6s 7ms/step - loss: 1.4820 - accuracy: 0.4719 - val_loss: 1.5337 - val_accuracy: 0.4529\n",
      "Epoch 7/10\n",
      "782/782 [==============================] - 6s 7ms/step - loss: 1.4538 - accuracy: 0.4811 - val_loss: 1.4940 - val_accuracy: 0.4698\n",
      "Epoch 8/10\n",
      "782/782 [==============================] - 6s 8ms/step - loss: 1.4257 - accuracy: 0.4912 - val_loss: 1.4887 - val_accuracy: 0.4666\n",
      "Epoch 9/10\n",
      "782/782 [==============================] - 6s 7ms/step - loss: 1.4054 - accuracy: 0.5006 - val_loss: 1.4540 - val_accuracy: 0.4845\n",
      "Epoch 10/10\n",
      "782/782 [==============================] - 6s 7ms/step - loss: 1.3823 - accuracy: 0.5048 - val_loss: 1.4716 - val_accuracy: 0.4791\n"
     ]
    }
   ],
   "source": [
    "st = time.time()\n",
    "history = model_x.fit(x_train, y_train, epochs=10, batch_size=64, validation_data=(x_test, y_test))\n",
    "et = time.time()\n",
    "duration_x = et - st"
   ]
  },
  {
   "cell_type": "code",
   "execution_count": 121,
   "id": "107ccade",
   "metadata": {},
   "outputs": [
    {
     "name": "stdout",
     "output_type": "stream",
     "text": [
      "313/313 [==============================] - 1s 2ms/step - loss: 1.4716 - accuracy: 0.4791\n",
      "Duration for Training:  59.568 seconds\n",
      "Accuracy:  47.91 %\n",
      "Loss:  1.4716\n"
     ]
    }
   ],
   "source": [
    "base_x = model_x.evaluate(x_test,y_test)\n",
    "acc_x = base_x[1]\n",
    "loss_x = base_x[0]\n",
    "print(\"Duration for Training: \",round(duration_x,3),'seconds')\n",
    "print('Accuracy: ',round(acc_x*100,2),'%')\n",
    "print('Loss: ',round(loss_x,4))\n",
    "result[0].append(base_x[1])\n",
    "result[1].append(base_x[0])\n",
    "result[2].append(duration_x)"
   ]
  },
  {
   "cell_type": "markdown",
   "id": "511560b1",
   "metadata": {},
   "source": [
    "# Kaiming Initialization"
   ]
  },
  {
   "cell_type": "code",
   "execution_count": 122,
   "id": "c58083ac",
   "metadata": {},
   "outputs": [],
   "source": [
    "init_k = tf.initializers.HeUniform()"
   ]
  },
  {
   "cell_type": "code",
   "execution_count": 123,
   "id": "a6bc8742",
   "metadata": {},
   "outputs": [
    {
     "name": "stderr",
     "output_type": "stream",
     "text": [
      "C:\\Users\\Student\\AppData\\Roaming\\Python\\Python310\\site-packages\\keras\\src\\initializers\\initializers.py:120: UserWarning: The initializer HeUniform is unseeded and being called multiple times, which will return identical values each time (even if the initializer is unseeded). Please update your code to provide a seed to the initializer, or avoid using the same initializer instance more than once.\n",
      "  warnings.warn(\n"
     ]
    }
   ],
   "source": [
    "model_k = Sequential([\n",
    "    Flatten(input_shape=(32, 32, 3)),\n",
    "    Dense(256, kernel_initializer = init_k, activation='relu'), # Hidden Layer 1\n",
    "    Dense(128, kernel_initializer = init_k, activation='relu'), # Hidden Layer 2\n",
    "    Dense(64, kernel_initializer = init_k, activation='relu'), # Hidden Layer 3\n",
    "    Dense(10,  kernel_initializer = init_k, activation='softmax')\n",
    "    ])"
   ]
  },
  {
   "cell_type": "code",
   "execution_count": 124,
   "id": "e1483ef8",
   "metadata": {},
   "outputs": [],
   "source": [
    "model_k.compile(optimizer='adam', loss='categorical_crossentropy', metrics=['accuracy'])"
   ]
  },
  {
   "cell_type": "code",
   "execution_count": 125,
   "id": "1d9fec2c",
   "metadata": {},
   "outputs": [
    {
     "name": "stdout",
     "output_type": "stream",
     "text": [
      "Epoch 1/10\n",
      "782/782 [==============================] - 7s 8ms/step - loss: 1.8886 - accuracy: 0.3174 - val_loss: 1.7329 - val_accuracy: 0.3795\n",
      "Epoch 2/10\n",
      "782/782 [==============================] - 6s 7ms/step - loss: 1.6969 - accuracy: 0.3936 - val_loss: 1.6402 - val_accuracy: 0.4115\n",
      "Epoch 3/10\n",
      "782/782 [==============================] - 6s 7ms/step - loss: 1.6153 - accuracy: 0.4201 - val_loss: 1.5973 - val_accuracy: 0.4279\n",
      "Epoch 4/10\n",
      "782/782 [==============================] - 6s 8ms/step - loss: 1.5630 - accuracy: 0.4431 - val_loss: 1.5612 - val_accuracy: 0.4398\n",
      "Epoch 5/10\n",
      "782/782 [==============================] - 6s 7ms/step - loss: 1.5256 - accuracy: 0.4540 - val_loss: 1.4930 - val_accuracy: 0.4621\n",
      "Epoch 6/10\n",
      "782/782 [==============================] - 6s 7ms/step - loss: 1.4916 - accuracy: 0.4679 - val_loss: 1.5608 - val_accuracy: 0.4470\n",
      "Epoch 7/10\n",
      "782/782 [==============================] - 6s 7ms/step - loss: 1.4571 - accuracy: 0.4795 - val_loss: 1.4679 - val_accuracy: 0.4771\n",
      "Epoch 8/10\n",
      "782/782 [==============================] - 6s 8ms/step - loss: 1.4347 - accuracy: 0.4868 - val_loss: 1.5246 - val_accuracy: 0.4648\n",
      "Epoch 9/10\n",
      "782/782 [==============================] - 6s 7ms/step - loss: 1.4072 - accuracy: 0.4994 - val_loss: 1.4610 - val_accuracy: 0.4833\n",
      "Epoch 10/10\n",
      "782/782 [==============================] - 6s 7ms/step - loss: 1.3886 - accuracy: 0.5054 - val_loss: 1.4283 - val_accuracy: 0.4935\n"
     ]
    }
   ],
   "source": [
    "st = time.time()\n",
    "history = model_k.fit(x_train, y_train, epochs=10, batch_size=64, validation_data=(x_test, y_test))\n",
    "et = time.time()\n",
    "duration_k = et - st"
   ]
  },
  {
   "cell_type": "code",
   "execution_count": 126,
   "id": "befd6573",
   "metadata": {},
   "outputs": [
    {
     "name": "stdout",
     "output_type": "stream",
     "text": [
      "313/313 [==============================] - 0s 1ms/step - loss: 1.4283 - accuracy: 0.4935\n",
      "Duration for Training:  59.359 seconds\n",
      "Accuracy:  49.35 %\n",
      "Loss:  1.4283\n"
     ]
    }
   ],
   "source": [
    "base_k = model_k.evaluate(x_test,y_test)\n",
    "acc_k = base_k[1]\n",
    "loss_k = base_k[0]\n",
    "print(\"Duration for Training: \",round(duration_k,3),'seconds')\n",
    "print('Accuracy: ',round(acc_k*100,2),'%')\n",
    "print('Loss: ',round(loss_k,4))\n",
    "result[0].append(base_k[1])\n",
    "result[1].append(base_k[0])\n",
    "result[2].append(duration_k)"
   ]
  },
  {
   "cell_type": "markdown",
   "id": "4672758f",
   "metadata": {},
   "source": [
    "# Dropout Regularization"
   ]
  },
  {
   "cell_type": "code",
   "execution_count": 127,
   "id": "c0079f5f",
   "metadata": {},
   "outputs": [],
   "source": [
    "model_d = Sequential([\n",
    "    Flatten(input_shape=(32, 32, 3)),\n",
    "    Dense(256, kernel_initializer = init_k, activation='relu'),\n",
    "    Dropout(0.2), # Hidden Layer 1\n",
    "    Dense(128, kernel_initializer = init_k, activation='relu'),\n",
    "    Dropout(0.2), # Hidden Layer 2\n",
    "    Dense(64, kernel_initializer = init_k, activation='relu'),\n",
    "    Dropout(0.2), # Hidden Layer 3\n",
    "    Dense(10,  kernel_initializer = init_k, activation='softmax'),\n",
    "    ])"
   ]
  },
  {
   "cell_type": "code",
   "execution_count": 128,
   "id": "6d94b312",
   "metadata": {},
   "outputs": [],
   "source": [
    "model_d.compile(optimizer='adam', loss='categorical_crossentropy', metrics=['accuracy'])"
   ]
  },
  {
   "cell_type": "code",
   "execution_count": 129,
   "id": "fa9b3a2d",
   "metadata": {},
   "outputs": [
    {
     "name": "stdout",
     "output_type": "stream",
     "text": [
      "Epoch 1/10\n",
      "782/782 [==============================] - 7s 8ms/step - loss: 2.0841 - accuracy: 0.2177 - val_loss: 1.8890 - val_accuracy: 0.3060\n",
      "Epoch 2/10\n",
      "782/782 [==============================] - 6s 8ms/step - loss: 1.9385 - accuracy: 0.2860 - val_loss: 1.8262 - val_accuracy: 0.3358\n",
      "Epoch 3/10\n",
      "782/782 [==============================] - 6s 8ms/step - loss: 1.8998 - accuracy: 0.3002 - val_loss: 1.7877 - val_accuracy: 0.3599\n",
      "Epoch 4/10\n",
      "782/782 [==============================] - 6s 8ms/step - loss: 1.8861 - accuracy: 0.3087 - val_loss: 1.7970 - val_accuracy: 0.3651\n",
      "Epoch 5/10\n",
      "782/782 [==============================] - 6s 8ms/step - loss: 1.8653 - accuracy: 0.3147 - val_loss: 1.7682 - val_accuracy: 0.3616\n",
      "Epoch 6/10\n",
      "782/782 [==============================] - 7s 8ms/step - loss: 1.8559 - accuracy: 0.3199 - val_loss: 1.7478 - val_accuracy: 0.3777\n",
      "Epoch 7/10\n",
      "782/782 [==============================] - 6s 8ms/step - loss: 1.8391 - accuracy: 0.3254 - val_loss: 1.7401 - val_accuracy: 0.3716\n",
      "Epoch 8/10\n",
      "782/782 [==============================] - 6s 8ms/step - loss: 1.8329 - accuracy: 0.3261 - val_loss: 1.7411 - val_accuracy: 0.3822\n",
      "Epoch 9/10\n",
      "782/782 [==============================] - 6s 8ms/step - loss: 1.8207 - accuracy: 0.3334 - val_loss: 1.7701 - val_accuracy: 0.3707\n",
      "Epoch 10/10\n",
      "782/782 [==============================] - 7s 9ms/step - loss: 1.8183 - accuracy: 0.3331 - val_loss: 1.7387 - val_accuracy: 0.3776\n"
     ]
    }
   ],
   "source": [
    "st = time.time()\n",
    "history = model_d.fit(x_train, y_train, epochs=10, batch_size=64, validation_data=(x_test, y_test))\n",
    "et = time.time()\n",
    "duration_d = et - st"
   ]
  },
  {
   "cell_type": "code",
   "execution_count": 130,
   "id": "cbe97cfc",
   "metadata": {},
   "outputs": [
    {
     "name": "stdout",
     "output_type": "stream",
     "text": [
      "313/313 [==============================] - 1s 2ms/step - loss: 1.7387 - accuracy: 0.3776\n",
      "Duration for Training:  64.195 seconds\n",
      "Accuracy:  37.76 %\n",
      "Loss:  1.7387\n"
     ]
    }
   ],
   "source": [
    "base_d = model_d.evaluate(x_test,y_test)\n",
    "acc_d = base_d[1]\n",
    "loss_d = base_d[0]\n",
    "print(\"Duration for Training: \",round(duration_d,3),'seconds')\n",
    "print('Accuracy: ',round(acc_d*100,2),'%')\n",
    "print('Loss: ',round(loss_d,4))\n",
    "result[0].append(base_d[1])\n",
    "result[1].append(base_d[0])\n",
    "result[2].append(duration_d)"
   ]
  },
  {
   "cell_type": "markdown",
   "id": "14d02e37",
   "metadata": {},
   "source": [
    "# L1/L2 Regularization"
   ]
  },
  {
   "cell_type": "code",
   "execution_count": 131,
   "id": "2c805b78",
   "metadata": {},
   "outputs": [],
   "source": [
    "kernel = regularizers.l1_l2(0.01)"
   ]
  },
  {
   "cell_type": "code",
   "execution_count": 132,
   "id": "3606b7fb",
   "metadata": {},
   "outputs": [],
   "source": [
    "model_l = Sequential([\n",
    "    Flatten(input_shape=(32, 32, 3)),\n",
    "    Dense(256, kernel_initializer = init_k, activation='relu'), # Hidden Layer 1\n",
    "    Dense(128, kernel_initializer = init_k, activation='relu'), # Hidden Layer 2\n",
    "    Dense(64, kernel_initializer = init_k, activation='relu'), # Hidden Layer 3\n",
    "    Dense(10,  kernel_initializer = init_k, activation='softmax')\n",
    "    ])"
   ]
  },
  {
   "cell_type": "code",
   "execution_count": 133,
   "id": "c1afe349",
   "metadata": {},
   "outputs": [],
   "source": [
    "model_l.compile(optimizer='adam', loss='categorical_crossentropy', metrics=['accuracy'])"
   ]
  },
  {
   "cell_type": "code",
   "execution_count": 134,
   "id": "1ae2b025",
   "metadata": {},
   "outputs": [
    {
     "name": "stdout",
     "output_type": "stream",
     "text": [
      "Epoch 1/10\n",
      "782/782 [==============================] - 7s 8ms/step - loss: 1.9052 - accuracy: 0.3120 - val_loss: 1.7690 - val_accuracy: 0.3721\n",
      "Epoch 2/10\n",
      "782/782 [==============================] - 6s 7ms/step - loss: 1.7039 - accuracy: 0.3888 - val_loss: 1.6591 - val_accuracy: 0.4088\n",
      "Epoch 3/10\n",
      "782/782 [==============================] - 6s 7ms/step - loss: 1.6230 - accuracy: 0.4191 - val_loss: 1.5899 - val_accuracy: 0.4330\n",
      "Epoch 4/10\n",
      "782/782 [==============================] - 6s 8ms/step - loss: 1.5709 - accuracy: 0.4373 - val_loss: 1.5893 - val_accuracy: 0.4402\n",
      "Epoch 5/10\n",
      "782/782 [==============================] - 6s 8ms/step - loss: 1.5203 - accuracy: 0.4559 - val_loss: 1.5629 - val_accuracy: 0.4369\n",
      "Epoch 6/10\n",
      "782/782 [==============================] - 6s 7ms/step - loss: 1.4885 - accuracy: 0.4695 - val_loss: 1.5261 - val_accuracy: 0.4519\n",
      "Epoch 7/10\n",
      "782/782 [==============================] - 6s 7ms/step - loss: 1.4573 - accuracy: 0.4797 - val_loss: 1.5509 - val_accuracy: 0.4558\n",
      "Epoch 8/10\n",
      "782/782 [==============================] - 6s 7ms/step - loss: 1.4305 - accuracy: 0.4903 - val_loss: 1.4606 - val_accuracy: 0.4803\n",
      "Epoch 9/10\n",
      "782/782 [==============================] - 6s 7ms/step - loss: 1.4103 - accuracy: 0.4971 - val_loss: 1.5119 - val_accuracy: 0.4623\n",
      "Epoch 10/10\n",
      "782/782 [==============================] - 6s 7ms/step - loss: 1.3855 - accuracy: 0.5061 - val_loss: 1.4816 - val_accuracy: 0.4707\n"
     ]
    }
   ],
   "source": [
    "st = time.time()\n",
    "history = model_l.fit(x_train, y_train, epochs=10, batch_size=64, validation_data=(x_test, y_test))\n",
    "et = time.time()\n",
    "duration_l= et - st"
   ]
  },
  {
   "cell_type": "code",
   "execution_count": 135,
   "id": "81554c53",
   "metadata": {},
   "outputs": [
    {
     "name": "stdout",
     "output_type": "stream",
     "text": [
      "313/313 [==============================] - 0s 1ms/step - loss: 1.4816 - accuracy: 0.4707\n",
      "Duration for Training:  58.501 seconds\n",
      "Accuracy:  47.07 %\n",
      "Loss:  1.4816\n"
     ]
    }
   ],
   "source": [
    "base_l = model_l.evaluate(x_test,y_test)\n",
    "acc_l = base_l[1]\n",
    "loss_l = base_l[0]\n",
    "print(\"Duration for Training: \",round(duration_l,3),'seconds')\n",
    "print('Accuracy: ',round(acc_l*100,2),'%')\n",
    "print('Loss: ',round(loss_l,4))\n",
    "result[0].append(base_l[1])\n",
    "result[1].append(base_l[0])\n",
    "result[2].append(duration_l)"
   ]
  },
  {
   "cell_type": "code",
   "execution_count": 136,
   "id": "77721c50",
   "metadata": {},
   "outputs": [],
   "source": [
    "headers = ['Metrics', 'Base Model', 'Xavier', 'Kaiming', 'Dropout','L1/L2']"
   ]
  },
  {
   "cell_type": "code",
   "execution_count": 137,
   "id": "0a450d17",
   "metadata": {},
   "outputs": [
    {
     "name": "stdout",
     "output_type": "stream",
     "text": [
      "Metrics       Base Model    Xavier    Kaiming    Dropout    L1/L2\n",
      "----------  ------------  --------  ---------  ---------  -------\n",
      "Accuracy            0.48      0.48       0.49       0.38     0.47\n",
      "Test Loss           1.44      1.47       1.43       1.74     1.48\n",
      "Time Taken         61.55     59.57      59.36      64.19    58.50\n"
     ]
    }
   ],
   "source": [
    "print(tabulate(result,headers=headers,floatfmt='0.2f'))"
   ]
  },
  {
   "cell_type": "code",
   "execution_count": null,
   "id": "89eb8ecc",
   "metadata": {},
   "outputs": [],
   "source": []
  }
 ],
 "metadata": {
  "kernelspec": {
   "display_name": "Python 3 (ipykernel)",
   "language": "python",
   "name": "python3"
  },
  "language_info": {
   "codemirror_mode": {
    "name": "ipython",
    "version": 3
   },
   "file_extension": ".py",
   "mimetype": "text/x-python",
   "name": "python",
   "nbconvert_exporter": "python",
   "pygments_lexer": "ipython3",
   "version": "3.10.9"
  }
 },
 "nbformat": 4,
 "nbformat_minor": 5
}
